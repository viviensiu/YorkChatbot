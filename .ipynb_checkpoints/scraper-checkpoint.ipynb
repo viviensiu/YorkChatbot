{
 "cells": [
  {
   "cell_type": "code",
   "execution_count": 1,
   "id": "9e057318-19a8-4934-80c4-6fcb8af54da4",
   "metadata": {},
   "outputs": [],
   "source": [
    "from bs4 import BeautifulSoup\n",
    "import pandas as pd\n",
    "import requests\n",
    "import os"
   ]
  },
  {
   "cell_type": "markdown",
   "id": "38298aad-2263-44c1-8b36-739ba66e07e0",
   "metadata": {},
   "source": [
    "## Web-scraping for data collection on Visit York information"
   ]
  },
  {
   "cell_type": "markdown",
   "id": "341004f3-8274-4250-82d4-c55536cf6054",
   "metadata": {},
   "source": [
    "The Visit York website has multiple categories, e.g. Things to do, What's on, Eat & Drink, and so on (see site header).\n",
    "\n",
    "Goal: Scrape selected categories for York Chatbot RAG.\n",
    "\n",
    "Idea 1:\n",
    "* Each category has multiple sub-categories. Go to each subcategory and scrape the hyperlinks inside, which are then used to scrape content for RAG.\n",
    "* Issue: these hyperlinks are paginated using Google Tag Manager, which makes it impossible to scrape individual pages as the url stays the same even at different pages. Which brings me to the next idea:\n",
    "\n",
    "Idea 2:\n",
    "* Save each pagination's web source as html on local computer, and try to scrape hyperlinks from these html.\n",
    "* Didn't work as the divider classes changed on html compared to web source. Like \"??!!\"\n",
    "\n",
    "Idea 3:\n",
    "* For each sub-category, manually copy-paste each hyperlinks into a file.\n",
    "* Use the file to scrape content."
   ]
  },
  {
   "cell_type": "code",
   "execution_count": 2,
   "id": "92f4d502-1952-495d-a142-975e8b022727",
   "metadata": {},
   "outputs": [],
   "source": [
    "# url_list = [\"https://visityork.org/business-directory/category/things-to-do\", \n",
    "#             \"https://visityork.org/whats-on\",\n",
    "#            \"https://visityork.org/business-directory/category/eat-drink\",\n",
    "#            \"https://visityork.org/business-directory/category/shopping\",\n",
    "#            \"https://visityork.org/beyond-york\",\n",
    "#            \"https://visityork.org/explore\",\n",
    "#            \"https://visityork.org/blog\",\n",
    "#            \"https://visityork.org/visitor-information\"]"
   ]
  },
  {
   "cell_type": "code",
   "execution_count": null,
   "id": "decd8842-635d-49dc-8687-a4f9b5522a2b",
   "metadata": {},
   "outputs": [],
   "source": []
  },
  {
   "cell_type": "markdown",
   "id": "94563a47-fc2b-472f-b920-fe9664f5393f",
   "metadata": {},
   "source": [
    "## POC: Scrape one category"
   ]
  },
  {
   "cell_type": "code",
   "execution_count": 3,
   "id": "14c9f7a2-d2f8-4019-89fa-0eff146dd5d3",
   "metadata": {},
   "outputs": [],
   "source": [
    "# url = \"https://visityork.org/business-directory/category/things-to-do\"\n",
    "# folder = \"./html/\"\n",
    "# files = os.listdir(path=folder)"
   ]
  },
  {
   "cell_type": "code",
   "execution_count": 4,
   "id": "9a616dd1-d45d-462e-b7f7-12582d0340fd",
   "metadata": {
    "scrolled": true
   },
   "outputs": [],
   "source": [
    "# with open(folder + files[0], \"rb\") as f:\n",
    "#     html = f.read()\n",
    "# bs = BeautifulSoup(html, 'html.parser')\n",
    "# print(bs.prettify())"
   ]
  },
  {
   "cell_type": "code",
   "execution_count": 5,
   "id": "486a18ad-ed1b-4c15-9f3c-8c4759d24986",
   "metadata": {},
   "outputs": [],
   "source": [
    "# res = bs.find_all('a')\n",
    "# res = bs.find_all('a', {\"class\":\"btn btn-sm btn--outline w-100 \"})"
   ]
  },
  {
   "cell_type": "code",
   "execution_count": 6,
   "id": "d4080de7-f9ba-4b9f-9641-d3a0aa23fe44",
   "metadata": {},
   "outputs": [],
   "source": [
    "# len(res)"
   ]
  },
  {
   "cell_type": "code",
   "execution_count": 7,
   "id": "4d795ae7-c7f1-4b4a-b359-00414d644fe4",
   "metadata": {},
   "outputs": [],
   "source": [
    "# res"
   ]
  },
  {
   "cell_type": "code",
   "execution_count": 8,
   "id": "4939877f-acb4-4435-9700-2429a611bfc7",
   "metadata": {},
   "outputs": [],
   "source": [
    "# for a in res:\n",
    "#     # print(\"\\n------------------------------------\\n\")\n",
    "#     print(a.get('href'))"
   ]
  },
  {
   "cell_type": "code",
   "execution_count": 9,
   "id": "3c3c82c8-f1bd-4f58-81ac-e7146eecb734",
   "metadata": {},
   "outputs": [
    {
     "data": {
      "text/plain": [
       "<Response [200]>"
      ]
     },
     "execution_count": 9,
     "metadata": {},
     "output_type": "execute_result"
    }
   ],
   "source": [
    "url = \"https://visityork.org/business-directory/york-army-museum\"\n",
    "# url = \"https://visityork.org/business-directory/company-of-merchant-taylors-york\"\n",
    "response = requests.get(url)\n",
    "response"
   ]
  },
  {
   "cell_type": "code",
   "execution_count": 10,
   "id": "30df63d5-b706-4ef8-8f41-fc980e6a8ef3",
   "metadata": {},
   "outputs": [],
   "source": [
    "# type(response.content)"
   ]
  },
  {
   "cell_type": "code",
   "execution_count": 11,
   "id": "1fbe4dae-ce99-45a8-9cc2-9b42abb8d25c",
   "metadata": {
    "scrolled": true
   },
   "outputs": [],
   "source": [
    "bs = BeautifulSoup(response.content, 'html.parser')"
   ]
  },
  {
   "cell_type": "code",
   "execution_count": 12,
   "id": "7dea9457-89d3-4bac-974d-dd19968bc4eb",
   "metadata": {},
   "outputs": [],
   "source": [
    "# print(bs.prettify())"
   ]
  },
  {
   "cell_type": "code",
   "execution_count": 13,
   "id": "24fcaab2-ed1b-41ad-b702-8775fe1637f2",
   "metadata": {},
   "outputs": [
    {
     "data": {
      "text/plain": [
       "1"
      ]
     },
     "execution_count": 13,
     "metadata": {},
     "output_type": "execute_result"
    }
   ],
   "source": [
    "# print(bs.getText())\n",
    "res = bs.find_all('div', {'class':'business-entry'})\n",
    "len(res)"
   ]
  },
  {
   "cell_type": "code",
   "execution_count": 14,
   "id": "3079506b-190c-4120-963c-0aef19961ce4",
   "metadata": {},
   "outputs": [
    {
     "data": {
      "text/plain": [
       "11"
      ]
     },
     "execution_count": 14,
     "metadata": {},
     "output_type": "execute_result"
    }
   ],
   "source": [
    "paragraph = res[0].find_all('p')\n",
    "len(paragraph)"
   ]
  },
  {
   "cell_type": "code",
   "execution_count": 15,
   "id": "fd6e8804-31b4-4553-ae6f-cc6f4bc57d9f",
   "metadata": {},
   "outputs": [
    {
     "name": "stdout",
     "output_type": "stream",
     "text": [
      "<p class=\"mb-0 font-family-nunito font-weight-bold text-secondary\">\n",
      "Socials:</p>\n",
      "<p>The York Army Museum offers visitors a unique experience. We curate the history of two current serving regiments of the British Army: The Royal Dragoon Guards and The Royal Yorkshire Regiment. One cavalry, one infantry; each of these regiments can trace its history back over three hundred years. Both have a historic connection to Yorkshire and its people. Following a recent £1 million refurbishment, York Army Museum is now open as an exciting and engaging visitor attraction, with something to offer for all ages. Take a virtual tour: <a href=\"http://www.yorkarmymuseum.co.uk/\">click here</a></p>\n",
      "<p>The museum has been a finalist in the Visit York Tourism Awards Small Attractions category every year since 2016, and won the award in 2018.</p>\n",
      "<p>Monday: 10am to 5pm</p>\n",
      "<p>Tuesday: 10am to 5pm</p>\n",
      "<p>Wednesday: 10am to 5pm</p>\n",
      "<p>Thursday: 10am to 5pm</p>\n",
      "<p>Friday: 10am to 5pm</p>\n",
      "<p>Saturday: 10am to 5pm</p>\n",
      "<p>Sunday: CLOSED</p>\n",
      "<p>Last admission is 30 minutes before closing time.</p>\n"
     ]
    }
   ],
   "source": [
    "for p in paragraph:\n",
    "    print(p)"
   ]
  },
  {
   "cell_type": "code",
   "execution_count": 16,
   "id": "22fc7793-4898-442b-831c-89d63af3c482",
   "metadata": {},
   "outputs": [
    {
     "name": "stdout",
     "output_type": "stream",
     "text": [
      "\n",
      "\n",
      "Socials:\n",
      "\n",
      "The York Army Museum offers visitors a unique experience. We curate the history of two current serving regiments of the British Army: The Royal Dragoon Guards and The Royal Yorkshire Regiment. One cavalry, one infantry; each of these regiments can trace its history back over three hundred years. Both have a historic connection to Yorkshire and its people. Following a recent £1 million refurbishment, York Army Museum is now open as an exciting and engaging visitor attraction, with something to offer for all ages. Take a virtual tour: click here\n",
      "\n",
      "The museum has been a finalist in the Visit York Tourism Awards Small Attractions category every year since 2016, and won the award in 2018.\n",
      "\n",
      "Monday: 10am to 5pm\n",
      "\n",
      "Tuesday: 10am to 5pm\n",
      "\n",
      "Wednesday: 10am to 5pm\n",
      "\n",
      "Thursday: 10am to 5pm\n",
      "\n",
      "Friday: 10am to 5pm\n",
      "\n",
      "Saturday: 10am to 5pm\n",
      "\n",
      "Sunday: CLOSED\n",
      "\n",
      "Last admission is 30 minutes before closing time.\n"
     ]
    }
   ],
   "source": [
    "for p in paragraph:\n",
    "    print(\"\\n\"+p.getText())"
   ]
  },
  {
   "cell_type": "code",
   "execution_count": 17,
   "id": "5952d02c-2372-480c-acc4-da5fc1a97d0b",
   "metadata": {},
   "outputs": [
    {
     "data": {
      "text/plain": [
       "'Socials:\\nThe York Army Museum offers visitors a unique experience. We curate the history of two current serving regiments of the British Army: The Royal Dragoon Guards and The Royal Yorkshire Regiment. One cavalry, one infantry; each of these regiments can trace its history back over three hundred years. Both have a historic connection to Yorkshire and its people. Following a recent £1 million refurbishment, York Army Museum is now open as an exciting and engaging visitor attraction, with something to offer for all ages. Take a virtual tour: click here\\nThe museum has been a finalist in the Visit York Tourism Awards Small Attractions category every year since 2016, and won the award in 2018.\\nMonday: 10am to 5pm\\nTuesday: 10am to 5pm\\nWednesday: 10am to 5pm\\nThursday: 10am to 5pm\\nFriday: 10am to 5pm\\nSaturday: 10am to 5pm\\nSunday: CLOSED\\nLast admission is 30 minutes before closing time.'"
      ]
     },
     "execution_count": 17,
     "metadata": {},
     "output_type": "execute_result"
    }
   ],
   "source": [
    "info = \"\\n\".join([p.getText().strip() for p in paragraph])\n",
    "info"
   ]
  },
  {
   "cell_type": "code",
   "execution_count": 18,
   "id": "f29ec535-187d-4585-8374-509567fc17cb",
   "metadata": {},
   "outputs": [
    {
     "name": "stdout",
     "output_type": "stream",
     "text": [
      "Socials:\n",
      "The York Army Museum offers visitors a unique experience. We curate the history of two current serving regiments of the British Army: The Royal Dragoon Guards and The Royal Yorkshire Regiment. One cavalry, one infantry; each of these regiments can trace its history back over three hundred years. Both have a historic connection to Yorkshire and its people. Following a recent £1 million refurbishment, York Army Museum is now open as an exciting and engaging visitor attraction, with something to offer for all ages. Take a virtual tour: click here\n",
      "The museum has been a finalist in the Visit York Tourism Awards Small Attractions category every year since 2016, and won the award in 2018.\n",
      "Monday: 10am to 5pm\n",
      "Tuesday: 10am to 5pm\n",
      "Wednesday: 10am to 5pm\n",
      "Thursday: 10am to 5pm\n",
      "Friday: 10am to 5pm\n",
      "Saturday: 10am to 5pm\n",
      "Sunday: CLOSED\n",
      "Last admission is 30 minutes before closing time.\n"
     ]
    }
   ],
   "source": [
    "print(info)"
   ]
  },
  {
   "cell_type": "code",
   "execution_count": 23,
   "id": "18407c60-d399-41b8-b451-bb4867289c3a",
   "metadata": {},
   "outputs": [],
   "source": [
    "import json\n",
    "\n",
    "info_json = json.dumps({\"info\":info})\n",
    "with open(f\"{os.getcwd()}/json_files/test-save.json\", \"w+\") as f:\n",
    "    json.dump({\"info\":info}, f)"
   ]
  },
  {
   "cell_type": "code",
   "execution_count": null,
   "id": "df64901f-7001-4dc4-907a-1f6c05f6c5a0",
   "metadata": {
    "scrolled": true
   },
   "outputs": [],
   "source": [
    "# subpage_filter = \"https://visityork.org/\"\n",
    "# subpages = [a.get('href') for a in bs.find_all(\"a\") if a.get('href') and a.get('href').startswith(subpage_filter)]\n",
    "# subpages    "
   ]
  },
  {
   "cell_type": "code",
   "execution_count": null,
   "id": "69d7eb4b-18c8-4e45-8ddc-a08595181581",
   "metadata": {},
   "outputs": [],
   "source": [
    "len(list(set(subpages)))"
   ]
  },
  {
   "cell_type": "code",
   "execution_count": null,
   "id": "4c201424-f93f-4707-b114-e4a79df4f801",
   "metadata": {},
   "outputs": [],
   "source": [
    "subpages = list(set(subpages))\n",
    "subpages"
   ]
  },
  {
   "cell_type": "code",
   "execution_count": null,
   "id": "6a74a2f6-66b7-4ba1-afaf-ba2575c36f03",
   "metadata": {},
   "outputs": [],
   "source": [
    "response = requests.get(url)\n",
    "response"
   ]
  },
  {
   "cell_type": "code",
   "execution_count": null,
   "id": "de15590e-a2db-4389-b897-65895bf84430",
   "metadata": {},
   "outputs": [],
   "source": [
    "bs = BeautifulSoup(response.content, 'html.parser')\n",
    "print(bs.prettify())"
   ]
  },
  {
   "cell_type": "code",
   "execution_count": null,
   "id": "e0355863-18c4-4906-a224-27d7f59ed316",
   "metadata": {},
   "outputs": [],
   "source": [
    "# subsubpage_filter = \"https://visityork.org/\"\n",
    "# subsubpages = [a.get('href') for a in bs.find_all('a') if a.get('href') and a.get('href').startswith(subsubpage_filter)]"
   ]
  },
  {
   "cell_type": "code",
   "execution_count": null,
   "id": "06a957b1-3d08-410f-9841-00fe5e65d191",
   "metadata": {},
   "outputs": [],
   "source": [
    "# subsubpages"
   ]
  },
  {
   "cell_type": "code",
   "execution_count": null,
   "id": "7277e14e-7dee-4c3b-a254-3eae5b16b11e",
   "metadata": {},
   "outputs": [],
   "source": [
    "len(res)"
   ]
  },
  {
   "cell_type": "code",
   "execution_count": null,
   "id": "76b5b63a-e0f4-4023-b8e0-b8ee4ca30efc",
   "metadata": {},
   "outputs": [],
   "source": [
    "res"
   ]
  },
  {
   "cell_type": "code",
   "execution_count": null,
   "id": "6f676b8c-6a43-405e-91c0-56adffdae183",
   "metadata": {},
   "outputs": [],
   "source": []
  }
 ],
 "metadata": {
  "kernelspec": {
   "display_name": "Python 3 (ipykernel)",
   "language": "python",
   "name": "python3"
  },
  "language_info": {
   "codemirror_mode": {
    "name": "ipython",
    "version": 3
   },
   "file_extension": ".py",
   "mimetype": "text/x-python",
   "name": "python",
   "nbconvert_exporter": "python",
   "pygments_lexer": "ipython3",
   "version": "3.12.3"
  }
 },
 "nbformat": 4,
 "nbformat_minor": 5
}
